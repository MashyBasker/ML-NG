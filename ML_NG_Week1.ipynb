{
  "nbformat": 4,
  "nbformat_minor": 0,
  "metadata": {
    "colab": {
      "name": "ML-NG_Week1.ipynb",
      "provenance": [],
      "authorship_tag": "ABX9TyOtAEG5lIIYQQNrie+wb3+F",
      "include_colab_link": true
    },
    "kernelspec": {
      "name": "python3",
      "display_name": "Python 3"
    },
    "language_info": {
      "name": "python"
    }
  },
  "cells": [
    {
      "cell_type": "markdown",
      "metadata": {
        "id": "view-in-github",
        "colab_type": "text"
      },
      "source": [
        "<a href=\"https://colab.research.google.com/github/MashyBasker/ML-NG/blob/main/ML_NG_Week1.ipynb\" target=\"_parent\"><img src=\"https://colab.research.google.com/assets/colab-badge.svg\" alt=\"Open In Colab\"/></a>"
      ]
    },
    {
      "cell_type": "markdown",
      "source": [
        "# WEEK 1"
      ],
      "metadata": {
        "id": "nMFiXNOVkSR7"
      }
    },
    {
      "cell_type": "code",
      "source": [
        "import numpy as np\n",
        "import pandas as pd\n",
        "import matplotlib.pyplot as plt\n"
      ],
      "metadata": {
        "id": "bpVteO1CMMgk"
      },
      "execution_count": 1,
      "outputs": []
    },
    {
      "cell_type": "markdown",
      "source": [
        "## LINEAR REGRESSION"
      ],
      "metadata": {
        "id": "d6vlBKfmQR-3"
      }
    },
    {
      "cell_type": "code",
      "source": [
        "from google.colab import drive\n",
        "drive.mount('/content/gdrive')"
      ],
      "metadata": {
        "colab": {
          "base_uri": "https://localhost:8080/"
        },
        "id": "62WM-btPDULU",
        "outputId": "aa7cbfa4-cc0c-46c0-ca14-1d49578f99eb"
      },
      "execution_count": 2,
      "outputs": [
        {
          "output_type": "stream",
          "name": "stdout",
          "text": [
            "Mounted at /content/gdrive\n"
          ]
        }
      ]
    },
    {
      "cell_type": "code",
      "source": [
        "#read test data\n",
        "df = pd.read_csv('/content/gdrive/MyDrive/kaggle_datasets/Salary_Data.csv')\n",
        "#print(df)\n",
        "N = 50\n",
        "x_column = df['YearsExperience'].to_list()\n",
        "y_column = df['Salary'].to_list()\n",
        "#w , b = -745 , 2\n",
        "m = len(x_column)\n",
        "#print(m)\n",
        "print(df.shape)\n",
        "#colors = np.random.rand(N)\n",
        "#area = (30 * np.random.rand(N))**2  # 0 to 15 point radii\n",
        "plt.scatter(x_column , y_column)\n",
        "plt.show()"
      ],
      "metadata": {
        "id": "Y8JlDB6GMYM5",
        "colab": {
          "base_uri": "https://localhost:8080/",
          "height": 282
        },
        "outputId": "4bc35078-2b2f-47ad-842b-89806bcd2656"
      },
      "execution_count": 3,
      "outputs": [
        {
          "output_type": "stream",
          "name": "stdout",
          "text": [
            "(30, 2)\n"
          ]
        },
        {
          "output_type": "display_data",
          "data": {
            "text/plain": [
              "<Figure size 432x288 with 1 Axes>"
            ],
            "image/png": "[encoded data removed]"
          },
          "metadata": {
            "needs_background": "light"
          }
        }
      ]
    },
    {
      "cell_type": "code",
      "source": [
        "def linear(w , b , x):\n",
        "  return (x * w) + b\n"
      ],
      "metadata": {
        "id": "j2BTTBHTRUdv"
      },
      "execution_count": 4,
      "outputs": []
    },
    {
      "cell_type": "code",
      "source": [
        "#show the relationship between the cost-function J(w) and w\n",
        "cost , w_list = [] , []\n",
        "def cost_function_plot():\n",
        "  wval = -10.0\n",
        "  while wval <= 10.0:\n",
        "    J = 0\n",
        "    for i in range(m):\n",
        "      J += (linear(wval , 0 , x_column[i]) - y_column[i]) ** 2\n",
        "    w_list.append(wval)\n",
        "    cost.append(J / (2 * m))\n",
        "    wval += 0.1\n",
        "  return w_list , cost\n",
        "\n",
        "xcol , ycol = cost_function_plot()\n",
        "plt.xlabel('The parameter W')\n",
        "plt.ylabel('Cost function value')\n",
        "plt.scatter(xcol , ycol , s=8)\n",
        "plt.show()\n",
        "\n",
        "\n",
        "#The gradient descent algo is used to find the value of w for which J(w,b) is minima  "
      ],
      "metadata": {
        "colab": {
          "base_uri": "https://localhost:8080/",
          "height": 290
        },
        "id": "FAPQpdLWJtec",
        "outputId": "65e166cb-e466-481c-ff49-d812cf72f038"
      },
      "execution_count": 5,
      "outputs": [
        {
          "output_type": "display_data",
          "data": {
            "text/plain": [
              "<Figure size 432x288 with 1 Axes>"
            ],
            "image/png": "[encoded data removed]"
          },
          "metadata": {
            "needs_background": "light"
          }
        }
      ]
    },
    {
      "cell_type": "code",
      "source": [
        "#relationship between J(b) and parameter b\n",
        "cost_1 , b_list = [] , []\n",
        "def cost_function_plot():\n",
        "  bval = -1000.0\n",
        "  while bval <= 1000.0:\n",
        "    J = 0\n",
        "    for i in range(m):\n",
        "      J += (linear(0 , bval , x_column[i]) - y_column[i]) ** 2\n",
        "    b_list.append(bval)\n",
        "    cost_1.append(J / (2 * m))\n",
        "    bval += 0.1\n",
        "  return b_list , cost_1\n",
        "\n",
        "xcol , ycol = cost_function_plot()\n",
        "plt.scatter(xcol , ycol , s=8)\n",
        "plt.xlabel('The Parameter B')\n",
        "plt.ylabel('Cost function value')\n",
        "plt.show()\n",
        "\n",
        "#Similarly here we use grad. descent to find the value of b for which J(w,b) is minima\n"
      ],
      "metadata": {
        "colab": {
          "base_uri": "https://localhost:8080/",
          "height": 290
        },
        "id": "1-NH29sulBB-",
        "outputId": "e1fe8d63-9d81-4997-8bb1-e020732deeb6"
      },
      "execution_count": 6,
      "outputs": [
        {
          "output_type": "display_data",
          "data": {
            "text/plain": [
              "<Figure size 432x288 with 1 Axes>"
            ],
            "image/png": "[encoded data removed]"
          },
          "metadata": {
            "needs_background": "light"
          }
        }
      ]
    },
    {
      "cell_type": "markdown",
      "source": [
        "# PRACTICE LINEAR REGRESSION\n"
      ],
      "metadata": {
        "id": "vrn4NDWr-skc"
      }
    },
    {
      "cell_type": "code",
      "source": [
        "#system modules\n",
        "import numpy as np\n",
        "import pandas as pd\n",
        "import matplotlib.pyplot as plt\n",
        "#import opendatasets as od\n",
        "import os"
      ],
      "metadata": {
        "id": "g7TskBwC-0XT"
      },
      "execution_count": 7,
      "outputs": []
    },
    {
      "cell_type": "code",
      "source": [
        "#mount google drive to get dataset\n",
        "from google.colab import drive\n",
        "drive.mount('/content/gdrive')"
      ],
      "metadata": {
        "id": "mht_dyPCFO9V",
        "colab": {
          "base_uri": "https://localhost:8080/"
        },
        "outputId": "5281997c-8725-415a-ad0b-00df8e32128f"
      },
      "execution_count": 8,
      "outputs": [
        {
          "output_type": "stream",
          "name": "stdout",
          "text": [
            "Drive already mounted at /content/gdrive; to attempt to forcibly remount, call drive.mount(\"/content/gdrive\", force_remount=True).\n"
          ]
        }
      ]
    },
    {
      "cell_type": "code",
      "source": [
        "os.environ['KAGGLE_CONFIG_DIR'] = '/content/gdrive/MyDrive/kaggle_datasets'"
      ],
      "metadata": {
        "id": "966kXDZeFuAG"
      },
      "execution_count": 9,
      "outputs": []
    },
    {
      "cell_type": "code",
      "source": [
        "%cd /content/gdrive/MyDrive/kaggle_datasets"
      ],
      "metadata": {
        "id": "X4WKnjWUGAac",
        "colab": {
          "base_uri": "https://localhost:8080/"
        },
        "outputId": "6f8fa1ae-33be-48ab-ff0d-ae3d5d4f2d39"
      },
      "execution_count": 10,
      "outputs": [
        {
          "output_type": "stream",
          "name": "stdout",
          "text": [
            "/content/gdrive/MyDrive/kaggle_datasets\n"
          ]
        }
      ]
    },
    {
      "cell_type": "code",
      "source": [
        "#download data from kaggle using API\n",
        "!kaggle datasets download -d karthickveerakumar/salary-data-simple-linear-regression"
      ],
      "metadata": {
        "id": "0-Tj4_lQGIZ3",
        "colab": {
          "base_uri": "https://localhost:8080/"
        },
        "outputId": "fcd99f93-03f9-4709-efd3-3d7db9de3158"
      },
      "execution_count": 11,
      "outputs": [
        {
          "output_type": "stream",
          "name": "stdout",
          "text": [
            "salary-data-simple-linear-regression.zip: Skipping, found more recently modified local copy (use --force to force download)\n"
          ]
        }
      ]
    },
    {
      "cell_type": "code",
      "source": [
        "#extract after unzipping\n",
        "!unzip /content/gdrive/MyDrive/kaggle_datasets/salary-data-simple-linear-regression.zip"
      ],
      "metadata": {
        "id": "WALuVOBlG5Z9",
        "colab": {
          "base_uri": "https://localhost:8080/"
        },
        "outputId": "0663b168-81d8-4f53-b7ef-1a66b91a9e77"
      },
      "execution_count": 12,
      "outputs": [
        {
          "output_type": "stream",
          "name": "stdout",
          "text": [
            "Archive:  /content/gdrive/MyDrive/kaggle_datasets/salary-data-simple-linear-regression.zip\n",
            "replace Salary_Data.csv? [y]es, [n]o, [A]ll, [N]one, [r]ename: y\n",
            "  inflating: Salary_Data.csv         \n"
          ]
        }
      ]
    },
    {
      "cell_type": "code",
      "source": [
        "#read CSV file using pandas\n",
        "data = pd.read_csv('/content/gdrive/MyDrive/kaggle_datasets/Salary_Data.csv')\n",
        "data"
      ],
      "metadata": {
        "id": "wrMHp6HzHEJg",
        "colab": {
          "base_uri": "https://localhost:8080/",
          "height": 990
        },
        "outputId": "b524140b-ed82-4122-ecec-30e9a9dd4296"
      },
      "execution_count": 13,
      "outputs": [
        {
          "output_type": "execute_result",
          "data": {
            "text/plain": [
              "    YearsExperience    Salary\n",
              "0               1.1   39343.0\n",
              "1               1.3   46205.0\n",
              "2               1.5   37731.0\n",
              "3               2.0   43525.0\n",
              "4               2.2   39891.0\n",
              "5               2.9   56642.0\n",
              "6               3.0   60150.0\n",
              "7               3.2   54445.0\n",
              "8               3.2   64445.0\n",
              "9               3.7   57189.0\n",
              "10              3.9   63218.0\n",
              "11              4.0   55794.0\n",
              "12              4.0   56957.0\n",
              "13              4.1   57081.0\n",
              "14              4.5   61111.0\n",
              "15              4.9   67938.0\n",
              "16              5.1   66029.0\n",
              "17              5.3   83088.0\n",
              "18              5.9   81363.0\n",
              "19              6.0   93940.0\n",
              "20              6.8   91738.0\n",
              "21              7.1   98273.0\n",
              "22              7.9  101302.0\n",
              "23              8.2  113812.0\n",
              "24              8.7  109431.0\n",
              "25              9.0  105582.0\n",
              "26              9.5  116969.0\n",
              "27              9.6  112635.0\n",
              "28             10.3  122391.0\n",
              "29             10.5  121872.0"
            ],
            "text/html": [
              "\n",
              "  <div id=\"df-b47d064f-0f73-436d-9635-cbfb770adeda\">\n",
              "    <div class=\"colab-df-container\">\n",
              "      <div>\n",
              "<style scoped>\n",
              "    .dataframe tbody tr th:only-of-type {\n",
              "        vertical-align: middle;\n",
              "    }\n",
              "\n",
              "    .dataframe tbody tr th {\n",
              "        vertical-align: top;\n",
              "    }\n",
              "\n",
              "    .dataframe thead th {\n",
              "        text-align: right;\n",
              "    }\n",
              "</style>\n",
              "<table border=\"1\" class=\"dataframe\">\n",
              "  <thead>\n",
              "    <tr style=\"text-align: right;\">\n",
              "      <th></th>\n",
              "      <th>YearsExperience</th>\n",
              "      <th>Salary</th>\n",
              "    </tr>\n",
              "  </thead>\n",
              "  <tbody>\n",
              "    <tr>\n",
              "      <th>0</th>\n",
              "      <td>1.1</td>\n",
              "      <td>39343.0</td>\n",
              "    </tr>\n",
              "    <tr>\n",
              "      <th>1</th>\n",
              "      <td>1.3</td>\n",
              "      <td>46205.0</td>\n",
              "    </tr>\n",
              "    <tr>\n",
              "      <th>2</th>\n",
              "      <td>1.5</td>\n",
              "      <td>37731.0</td>\n",
              "    </tr>\n",
              "    <tr>\n",
              "      <th>3</th>\n",
              "      <td>2.0</td>\n",
              "      <td>43525.0</td>\n",
              "    </tr>\n",
              "    <tr>\n",
              "      <th>4</th>\n",
              "      <td>2.2</td>\n",
              "      <td>39891.0</td>\n",
              "    </tr>\n",
              "    <tr>\n",
              "      <th>5</th>\n",
              "      <td>2.9</td>\n",
              "      <td>56642.0</td>\n",
              "    </tr>\n",
              "    <tr>\n",
              "      <th>6</th>\n",
              "      <td>3.0</td>\n",
              "      <td>60150.0</td>\n",
              "    </tr>\n",
              "    <tr>\n",
              "      <th>7</th>\n",
              "      <td>3.2</td>\n",
              "      <td>54445.0</td>\n",
              "    </tr>\n",
              "    <tr>\n",
              "      <th>8</th>\n",
              "      <td>3.2</td>\n",
              "      <td>64445.0</td>\n",
              "    </tr>\n",
              "    <tr>\n",
              "      <th>9</th>\n",
              "      <td>3.7</td>\n",
              "      <td>57189.0</td>\n",
              "    </tr>\n",
              "    <tr>\n",
              "      <th>10</th>\n",
              "      <td>3.9</td>\n",
              "      <td>63218.0</td>\n",
              "    </tr>\n",
              "    <tr>\n",
              "      <th>11</th>\n",
              "      <td>4.0</td>\n",
              "      <td>55794.0</td>\n",
              "    </tr>\n",
              "    <tr>\n",
              "      <th>12</th>\n",
              "      <td>4.0</td>\n",
              "      <td>56957.0</td>\n",
              "    </tr>\n",
              "    <tr>\n",
              "      <th>13</th>\n",
              "      <td>4.1</td>\n",
              "      <td>57081.0</td>\n",
              "    </tr>\n",
              "    <tr>\n",
              "      <th>14</th>\n",
              "      <td>4.5</td>\n",
              "      <td>61111.0</td>\n",
              "    </tr>\n",
              "    <tr>\n",
              "      <th>15</th>\n",
              "      <td>4.9</td>\n",
              "      <td>67938.0</td>\n",
              "    </tr>\n",
              "    <tr>\n",
              "      <th>16</th>\n",
              "      <td>5.1</td>\n",
              "      <td>66029.0</td>\n",
              "    </tr>\n",
              "    <tr>\n",
              "      <th>17</th>\n",
              "      <td>5.3</td>\n",
              "      <td>83088.0</td>\n",
              "    </tr>\n",
              "    <tr>\n",
              "      <th>18</th>\n",
              "      <td>5.9</td>\n",
              "      <td>81363.0</td>\n",
              "    </tr>\n",
              "    <tr>\n",
              "      <th>19</th>\n",
              "      <td>6.0</td>\n",
              "      <td>93940.0</td>\n",
              "    </tr>\n",
              "    <tr>\n",
              "      <th>20</th>\n",
              "      <td>6.8</td>\n",
              "      <td>91738.0</td>\n",
              "    </tr>\n",
              "    <tr>\n",
              "      <th>21</th>\n",
              "      <td>7.1</td>\n",
              "      <td>98273.0</td>\n",
              "    </tr>\n",
              "    <tr>\n",
              "      <th>22</th>\n",
              "      <td>7.9</td>\n",
              "      <td>101302.0</td>\n",
              "    </tr>\n",
              "    <tr>\n",
              "      <th>23</th>\n",
              "      <td>8.2</td>\n",
              "      <td>113812.0</td>\n",
              "    </tr>\n",
              "    <tr>\n",
              "      <th>24</th>\n",
              "      <td>8.7</td>\n",
              "      <td>109431.0</td>\n",
              "    </tr>\n",
              "    <tr>\n",
              "      <th>25</th>\n",
              "      <td>9.0</td>\n",
              "      <td>105582.0</td>\n",
              "    </tr>\n",
              "    <tr>\n",
              "      <th>26</th>\n",
              "      <td>9.5</td>\n",
              "      <td>116969.0</td>\n",
              "    </tr>\n",
              "    <tr>\n",
              "      <th>27</th>\n",
              "      <td>9.6</td>\n",
              "      <td>112635.0</td>\n",
              "    </tr>\n",
              "    <tr>\n",
              "      <th>28</th>\n",
              "      <td>10.3</td>\n",
              "      <td>122391.0</td>\n",
              "    </tr>\n",
              "    <tr>\n",
              "      <th>29</th>\n",
              "      <td>10.5</td>\n",
              "      <td>121872.0</td>\n",
              "    </tr>\n",
              "  </tbody>\n",
              "</table>\n",
              "</div>\n",
              "      <button class=\"colab-df-convert\" onclick=\"convertToInteractive('df-b47d064f-0f73-436d-9635-cbfb770adeda')\"\n",
              "              title=\"Convert this dataframe to an interactive table.\"\n",
              "              style=\"display:none;\">\n",
              "        \n",
              "  <svg xmlns=\"http://www.w3.org/2000/svg\" height=\"24px\"viewBox=\"0 0 24 24\"\n",
              "       width=\"24px\">\n",
              "    <path d=\"M0 0h24v24H0V0z\" fill=\"none\"/>\n",
              "    <path d=\"M18.56 5.44l.94 2.06.94-2.06 2.06-.94-2.06-.94-.94-2.06-.94 2.06-2.06.94zm-11 1L8.5 8.5l.94-2.06 2.06-.94-2.06-.94L8.5 2.5l-.94 2.06-2.06.94zm10 10l.94 2.06.94-2.06 2.06-.94-2.06-.94-.94-2.06-.94 2.06-2.06.94z\"/><path d=\"M17.41 7.96l-1.37-1.37c-.4-.4-.92-.59-1.43-.59-.52 0-1.04.2-1.43.59L10.3 9.45l-7.72 7.72c-.78.78-.78 2.05 0 2.83L4 21.41c.39.39.9.59 1.41.59.51 0 1.02-.2 1.41-.59l7.78-7.78 2.81-2.81c.8-.78.8-2.07 0-2.86zM5.41 20L4 18.59l7.72-7.72 1.47 1.35L5.41 20z\"/>\n",
              "  </svg>\n",
              "      </button>\n",
              "      \n",
              "  <style>\n",
              "    .colab-df-container {\n",
              "      display:flex;\n",
              "      flex-wrap:wrap;\n",
              "      gap: 12px;\n",
              "    }\n",
              "\n",
              "    .colab-df-convert {\n",
              "      background-color: #E8F0FE;\n",
              "      border: none;\n",
              "      border-radius: 50%;\n",
              "      cursor: pointer;\n",
              "      display: none;\n",
              "      fill: #1967D2;\n",
              "      height: 32px;\n",
              "      padding: 0 0 0 0;\n",
              "      width: 32px;\n",
              "    }\n",
              "\n",
              "    .colab-df-convert:hover {\n",
              "      background-color: #E2EBFA;\n",
              "      box-shadow: 0px 1px 2px rgba(60, 64, 67, 0.3), 0px 1px 3px 1px rgba(60, 64, 67, 0.15);\n",
              "      fill: #174EA6;\n",
              "    }\n",
              "\n",
              "    [theme=dark] .colab-df-convert {\n",
              "      background-color: #3B4455;\n",
              "      fill: #D2E3FC;\n",
              "    }\n",
              "\n",
              "    [theme=dark] .colab-df-convert:hover {\n",
              "      background-color: #434B5C;\n",
              "      box-shadow: 0px 1px 3px 1px rgba(0, 0, 0, 0.15);\n",
              "      filter: drop-shadow(0px 1px 2px rgba(0, 0, 0, 0.3));\n",
              "      fill: #FFFFFF;\n",
              "    }\n",
              "  </style>\n",
              "\n",
              "      <script>\n",
              "        const buttonEl =\n",
              "          document.querySelector('#df-b47d064f-0f73-436d-9635-cbfb770adeda button.colab-df-convert');\n",
              "        buttonEl.style.display =\n",
              "          google.colab.kernel.accessAllowed ? 'block' : 'none';\n",
              "\n",
              "        async function convertToInteractive(key) {\n",
              "          const element = document.querySelector('#df-b47d064f-0f73-436d-9635-cbfb770adeda');\n",
              "          const dataTable =\n",
              "            await google.colab.kernel.invokeFunction('convertToInteractive',\n",
              "                                                     [key], {});\n",
              "          if (!dataTable) return;\n",
              "\n",
              "          const docLinkHtml = 'Like what you see? Visit the ' +\n",
              "            '<a target=\"_blank\" href=https://colab.research.google.com/notebooks/data_table.ipynb>data table notebook</a>'\n",
              "            + ' to learn more about interactive tables.';\n",
              "          element.innerHTML = '';\n",
              "          dataTable['output_type'] = 'display_data';\n",
              "          await google.colab.output.renderOutput(dataTable, element);\n",
              "          const docLink = document.createElement('div');\n",
              "          docLink.innerHTML = docLinkHtml;\n",
              "          element.appendChild(docLink);\n",
              "        }\n",
              "      </script>\n",
              "    </div>\n",
              "  </div>\n",
              "  "
            ]
          },
          "metadata": {},
          "execution_count": 13
        }
      ]
    },
    {
      "cell_type": "code",
      "source": [
        "#visualise the input\n",
        "x_column = data['YearsExperience'] #x-axis\n",
        "y_column = data['Salary'] #y-axis\n",
        "plt.scatter(x_column , y_column , color='orange') #visualise in scatter form\n",
        "plt.xlabel('Experience in Years')\n",
        "plt.ylabel('Salary')\n",
        "plt.show()\n",
        "m = len(x_column) #batch size\n",
        "w = 0\n",
        "b = 0\n",
        "alpha = 0.01     "
      ],
      "metadata": {
        "colab": {
          "base_uri": "https://localhost:8080/",
          "height": 279
        },
        "id": "8dl1Ir4YKevO",
        "outputId": "0886d9df-7204-4b25-ceab-f028c723e520"
      },
      "execution_count": 14,
      "outputs": [
        {
          "output_type": "display_data",
          "data": {
            "text/plain": [
              "<Figure size 432x288 with 1 Axes>"
            ],
            "image/png": "[encoded data removed]"
          },
          "metadata": {
            "needs_background": "light"
          }
        }
      ]
    },
    {
      "cell_type": "code",
      "source": [
        "def hypothesis(x):\n",
        "    #linear hypothesis function\n",
        "    fx = (w * x) + b\n",
        "    return fx\n",
        "\n",
        "def cost(w , b):\n",
        "    #the cost function\n",
        "    sum = 0\n",
        "    for i in range(m):\n",
        "        sum += (hypothesis(x_column[i]) - y_column[i]) ** 2\n",
        "    cost_val = sum / (2 * m)\n",
        "    return cost_val\n"
      ],
      "metadata": {
        "id": "QSs3KOhFMllk"
      },
      "execution_count": 20,
      "outputs": []
    },
    {
      "cell_type": "code",
      "source": [
        "#differentiation funcs\n",
        "def det_w(w , b):\n",
        "    #differentiate J(w,b) wrt w\n",
        "    det_sumw = 0\n",
        "    for i in range(m):\n",
        "        det_sumw += (hypothesis(x_column[i]) - y_column[i]) * x_column[i]\n",
        "    det_val = det_sumw / m\n",
        "    return det_val\n",
        "\n",
        "def det_b(w , b):\n",
        "    #differentiate J(w,b) wrt b\n",
        "    det_sumb = 0\n",
        "    for i in range(m):\n",
        "        det_sumb += (hypothesis(x_column[i]) - y_column[i])\n",
        "    det_val = det_sumb / m\n",
        "    return det_val\n"
      ],
      "metadata": {
        "id": "KlqOLrR3Qj96"
      },
      "execution_count": 16,
      "outputs": []
    },
    {
      "cell_type": "code",
      "source": [
        "#gradient descent in action\n",
        "def train():\n",
        "    global w , b\n",
        "    temp_w = w - alpha * det_w(w , b)\n",
        "    temp_b = b - alpha * det_b(w , b)\n",
        "    w = temp_w\n",
        "    b = temp_b"
      ],
      "metadata": {
        "id": "qEaljtYATR4C"
      },
      "execution_count": 17,
      "outputs": []
    },
    {
      "cell_type": "code",
      "source": [
        "#train model for 500 iterations\n",
        "cost_value , iter = [] , []\n",
        "for k in range(5000):\n",
        "    train()\n",
        "    val = cost(w , b)\n",
        "    cost_value.append(val)\n",
        "    iter.append(k)\n",
        "print(w , b)\n",
        "#plot the optimization of cost function vs no. of iterations\n",
        "plt.plot(iter , cost_value)\n",
        "plt.xlabel('No. of iterations')\n",
        "plt.ylabel('Loss/Error value')\n",
        "plt.show()"
      ],
      "metadata": {
        "colab": {
          "base_uri": "https://localhost:8080/",
          "height": 307
        },
        "id": "lEe0YVrhT0mN",
        "outputId": "6cbc5cdd-9725-4e95-b3c3-50321bca0705"
      },
      "execution_count": 24,
      "outputs": [
        {
          "output_type": "stream",
          "name": "stdout",
          "text": [
            "9449.962321725252 25792.200196848054\n"
          ]
        },
        {
          "output_type": "display_data",
          "data": {
            "text/plain": [
              "<Figure size 432x288 with 1 Axes>"
            ],
            "image/png": "[encoded data removed]"
          },
          "metadata": {
            "needs_background": "light"
          }
        }
      ]
    },
    {
      "cell_type": "code",
      "source": [
        "#get predictions\n",
        "predictions = []\n",
        "for i in range(m) :\n",
        "    predictions.append(round(hypothesis(x_column[i]) , 1))\n",
        "\n",
        "#plt.scatter(x_column , predictions)\n",
        "#plt.show()\n",
        "print(np.array(y_column) - np.array(predictions))\n"
      ],
      "metadata": {
        "colab": {
          "base_uri": "https://localhost:8080/"
        },
        "id": "kPyT_2VmUX_-",
        "outputId": "4bab80fa-02a9-431c-c337-7fa6fa2a3771"
      },
      "execution_count": null,
      "outputs": [
        {
          "output_type": "stream",
          "name": "stdout",
          "text": [
            "[10082.9 14809.2  4199.5  4654.3 -1115.4  8160.7 10600.9  2760.2 12760.2\n",
            "   165.   4058.3 -4433.6 -3270.6 -4214.4 -4455.8 -1900.2 -5944.9  8978.5\n",
            "   846.4 12355.5  1610.8  4942.3  -571.5  8735.   -985.2 -8037.8 -1990.\n",
            " -7391.8 -5110.7 -7765.4]\n"
          ]
        }
      ]
    },
    {
      "cell_type": "code",
      "source": [
        "#compare data\n",
        "plt.scatter(x_column , y_column , color='black') #original data scatter\n",
        "plt.plot(x_column , predictions , color='orange' , label='Predicted') #plot of the predicted\n",
        "plt.plot([min(x_column) , max(x_column)] , [min(y_column) , max(y_column)] , label='Original') #original data plot\n",
        "plt.legend()\n",
        "plt.show()"
      ],
      "metadata": {
        "colab": {
          "base_uri": "https://localhost:8080/",
          "height": 265
        },
        "id": "Qyj14KbrWbZG",
        "outputId": "d85a5a49-2ff5-47cd-af94-ec375d6629de"
      },
      "execution_count": null,
      "outputs": [
        {
          "output_type": "display_data",
          "data": {
            "text/plain": [
              "<Figure size 432x288 with 1 Axes>"
            ],
            "image/png": "[encoded data removed]"
          },
          "metadata": {
            "needs_background": "light"
          }
        }
      ]
    }
  ]
}