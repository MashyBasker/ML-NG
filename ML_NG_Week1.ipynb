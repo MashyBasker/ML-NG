{
  "nbformat": 4,
  "nbformat_minor": 0,
  "metadata": {
    "colab": {
      "name": "ML-NG_Week1.ipynb",
      "provenance": [],
      "authorship_tag": "ABX9TyNw9KPEjj210XmtRE+AEA8q",
      "include_colab_link": true
    },
    "kernelspec": {
      "name": "python3",
      "display_name": "Python 3"
    },
    "language_info": {
      "name": "python"
    }
  },
  "cells": [
    {
      "cell_type": "markdown",
      "metadata": {
        "id": "view-in-github",
        "colab_type": "text"
      },
      "source": [
        "<a href=\"https://colab.research.google.com/github/MashyBasker/ML-NG/blob/main/ML_NG_Week1.ipynb\" target=\"_parent\"><img src=\"https://colab.research.google.com/assets/colab-badge.svg\" alt=\"Open In Colab\"/></a>"
      ]
    },
    {
      "cell_type": "markdown",
      "source": [
        "# WEEK 1"
      ],
      "metadata": {
        "id": "nMFiXNOVkSR7"
      }
    },
    {
      "cell_type": "code",
      "source": [
        "import numpy as np\n",
        "import pandas as pd\n",
        "import matplotlib.pyplot as plt\n"
      ],
      "metadata": {
        "id": "bpVteO1CMMgk"
      },
      "execution_count": null,
      "outputs": []
    },
    {
      "cell_type": "markdown",
      "source": [
        "## LINEAR REGRESSION"
      ],
      "metadata": {
        "id": "d6vlBKfmQR-3"
      }
    },
    {
      "cell_type": "code",
      "source": [
        "from google.colab import drive\n",
        "drive.mount('/content/gdrive')"
      ],
      "metadata": {
        "colab": {
          "base_uri": "https://localhost:8080/"
        },
        "id": "62WM-btPDULU",
        "outputId": "151ff91f-09d3-40f1-f276-8dcd701bd006"
      },
      "execution_count": null,
      "outputs": [
        {
          "output_type": "stream",
          "name": "stdout",
          "text": [
            "Drive already mounted at /content/gdrive; to attempt to forcibly remount, call drive.mount(\"/content/gdrive\", force_remount=True).\n"
          ]
        }
      ]
    },
    {
      "cell_type": "code",
      "source": [
        "#read test data\n",
        "df = pd.read_csv('/content/gdrive/MyDrive/kaggle_datasets/Salary_Data.csv')\n",
        "#print(df)\n",
        "N = 50\n",
        "x_column = df['YearsExperience'].to_list()\n",
        "y_column = df['Salary'].to_list()\n",
        "#w , b = -745 , 2\n",
        "m = len(x_column)\n",
        "#print(m)\n",
        "print(df.shape)\n",
        "#colors = np.random.rand(N)\n",
        "#area = (30 * np.random.rand(N))**2  # 0 to 15 point radii\n",
        "plt.scatter(x_column , y_column , s=8)\n",
        "plt.show()"
      ],
      "metadata": {
        "id": "Y8JlDB6GMYM5",
        "colab": {
          "base_uri": "https://localhost:8080/",
          "height": 282
        },
        "outputId": "2923a5eb-15ab-44bd-c571-3350f7be8190"
      },
      "execution_count": null,
      "outputs": [
        {
          "output_type": "stream",
          "name": "stdout",
          "text": [
            "(30, 2)\n"
          ]
        },
        {
          "output_type": "display_data",
          "data": {
            "text/plain": [
              "<Figure size 432x288 with 1 Axes>"
            ],
            "image/png": "[encoded data removed]"
          },
          "metadata": {
            "needs_background": "light"
          }
        }
      ]
    },
    {
      "cell_type": "code",
      "source": [
        "def linear(w , b , x):\n",
        "  return (x * w) + b\n"
      ],
      "metadata": {
        "id": "j2BTTBHTRUdv"
      },
      "execution_count": null,
      "outputs": []
    },
    {
      "cell_type": "code",
      "source": [
        "#show the relationship between the cost-function J(w) and w\n",
        "cost , w_list = [] , []\n",
        "def cost_function_plot():\n",
        "  wval = -10.0\n",
        "  while wval <= 10.0:\n",
        "    J = 0\n",
        "    for i in range(m):\n",
        "      J += (linear(wval , 0 , x_column[i]) - y_column[i]) ** 2\n",
        "    w_list.append(wval)\n",
        "    cost.append(J / (2 * m))\n",
        "    wval += 0.1\n",
        "  return w_list , cost\n",
        "\n",
        "xcol , ycol = cost_function_plot()\n",
        "plt.xlabel('The parameter W')\n",
        "plt.ylabel('Cost function value')\n",
        "plt.scatter(xcol , ycol , s=8)\n",
        "plt.show()\n",
        "\n",
        "\n",
        "#The gradient descent algo is used to find the value of w for which J(w,b) is minima  "
      ],
      "metadata": {
        "colab": {
          "base_uri": "https://localhost:8080/",
          "height": 290
        },
        "id": "FAPQpdLWJtec",
        "outputId": "96c72d7d-75a9-4aaf-f480-934f49a61f49"
      },
      "execution_count": null,
      "outputs": [
        {
          "output_type": "display_data",
          "data": {
            "text/plain": [
              "<Figure size 432x288 with 1 Axes>"
            ],
            "image/png": "[encoded data removed]"
          },
          "metadata": {
            "needs_background": "light"
          }
        }
      ]
    },
    {
      "cell_type": "code",
      "source": [
        "#relationship between J(b) and parameter b\n",
        "cost_1 , b_list = [] , []\n",
        "def cost_function_plot():\n",
        "  bval = -1000.0\n",
        "  while bval <= 1000.0:\n",
        "    J = 0\n",
        "    for i in range(m):\n",
        "      J += (linear(0 , bval , x_column[i]) - y_column[i]) ** 2\n",
        "    b_list.append(bval)\n",
        "    cost_1.append(J / (2 * m))\n",
        "    bval += 0.1\n",
        "  return b_list , cost_1\n",
        "\n",
        "xcol , ycol = cost_function_plot()\n",
        "plt.scatter(xcol , ycol , s=8)\n",
        "plt.xlabel('The Parameter B')\n",
        "plt.ylabel('Cost function value')\n",
        "plt.show()\n",
        "\n",
        "#Similarly here we use grad. descent to find the value of b for which J(w,b) is minima\n"
      ],
      "metadata": {
        "colab": {
          "base_uri": "https://localhost:8080/",
          "height": 290
        },
        "id": "1-NH29sulBB-",
        "outputId": "4fbd7759-b5a4-4895-aa9f-6435866f8557"
      },
      "execution_count": null,
      "outputs": [
        {
          "output_type": "display_data",
          "data": {
            "text/plain": [
              "<Figure size 432x288 with 1 Axes>"
            ],
            "image/png": "[encoded data removed]"
          },
          "metadata": {
            "needs_background": "light"
          }
        }
      ]
    },
    {
      "cell_type": "markdown",
      "source": [
        "# PRACTICE LINEAR REGRESSION\n"
      ],
      "metadata": {
        "id": "vrn4NDWr-skc"
      }
    },
    {
      "cell_type": "code",
      "source": [
        "#system modules\n",
        "import numpy as np\n",
        "import pandas as pd\n",
        "import matplotlib.pyplot as plt\n",
        "#import opendatasets as od\n",
        "import os"
      ],
      "metadata": {
        "id": "g7TskBwC-0XT"
      },
      "execution_count": null,
      "outputs": []
    },
    {
      "cell_type": "code",
      "source": [
        "#mount google drive to get dataset\n",
        "from google.colab import drive\n",
        "drive.mount('/content/gdrive')"
      ],
      "metadata": {
        "id": "mht_dyPCFO9V",
        "colab": {
          "base_uri": "https://localhost:8080/"
        },
        "outputId": "f369428c-9e09-4c48-9985-2e7979028762"
      },
      "execution_count": null,
      "outputs": [
        {
          "output_type": "stream",
          "name": "stdout",
          "text": [
            "Mounted at /content/gdrive\n"
          ]
        }
      ]
    },
    {
      "cell_type": "code",
      "source": [
        "os.environ['KAGGLE_CONFIG_DIR'] = '/content/gdrive/MyDrive/kaggle_datasets'"
      ],
      "metadata": {
        "id": "966kXDZeFuAG"
      },
      "execution_count": null,
      "outputs": []
    },
    {
      "cell_type": "code",
      "source": [
        "%cd /content/gdrive/MyDrive/kaggle_datasets"
      ],
      "metadata": {
        "id": "X4WKnjWUGAac",
        "colab": {
          "base_uri": "https://localhost:8080/"
        },
        "outputId": "e079718f-c94c-44b3-84a6-80b553919a20"
      },
      "execution_count": null,
      "outputs": [
        {
          "output_type": "stream",
          "name": "stdout",
          "text": [
            "/content/gdrive/MyDrive/kaggle_datasets\n"
          ]
        }
      ]
    },
    {
      "cell_type": "code",
      "source": [
        "#download data from kaggle using API\n",
        "!kaggle datasets download -d karthickveerakumar/salary-data-simple-linear-regression"
      ],
      "metadata": {
        "id": "0-Tj4_lQGIZ3",
        "colab": {
          "base_uri": "https://localhost:8080/"
        },
        "outputId": "9f2ddff1-b712-4e62-a1cd-e1303ee40ad9"
      },
      "execution_count": null,
      "outputs": [
        {
          "output_type": "stream",
          "name": "stdout",
          "text": [
            "salary-data-simple-linear-regression.zip: Skipping, found more recently modified local copy (use --force to force download)\n"
          ]
        }
      ]
    },
    {
      "cell_type": "code",
      "source": [
        "#extract after unzipping\n",
        "!unzip /content/gdrive/MyDrive/kaggle_datasets/salary-data-simple-linear-regression.zip"
      ],
      "metadata": {
        "id": "WALuVOBlG5Z9",
        "colab": {
          "base_uri": "https://localhost:8080/"
        },
        "outputId": "de495a36-6658-459c-df65-582d68033aee"
      },
      "execution_count": null,
      "outputs": [
        {
          "output_type": "stream",
          "name": "stdout",
          "text": [
            "Archive:  /content/gdrive/MyDrive/kaggle_datasets/salary-data-simple-linear-regression.zip\n",
            "replace Salary_Data.csv? [y]es, [n]o, [A]ll, [N]one, [r]ename: y\n",
            "  inflating: Salary_Data.csv         \n"
          ]
        }
      ]
    },
    {
      "cell_type": "code",
      "source": [
        "#read CSV file using pandas\n",
        "data = pd.read_csv('/content/gdrive/MyDrive/kaggle_datasets/Salary_Data.csv')\n",
        "data"
      ],
      "metadata": {
        "id": "wrMHp6HzHEJg"
      },
      "execution_count": null,
      "outputs": []
    },
    {
      "cell_type": "code",
      "source": [
        "#visualise the input\n",
        "x_column = data['YearsExperience'] #x-axis\n",
        "y_column = data['Salary'] #y-axis\n",
        "plt.scatter(x_column , y_column , color='orange') #visualise in scatter form\n",
        "plt.xlabel('Experience in Years')\n",
        "plt.ylabel('Salary')\n",
        "plt.show()\n",
        "m = len(x_column) #batch size\n",
        "w = 0\n",
        "b = 0\n",
        "alpha = 0.01     "
      ],
      "metadata": {
        "colab": {
          "base_uri": "https://localhost:8080/",
          "height": 279
        },
        "id": "8dl1Ir4YKevO",
        "outputId": "62676533-dfaf-46e3-d5fd-626f5a59ca3c"
      },
      "execution_count": null,
      "outputs": [
        {
          "output_type": "display_data",
          "data": {
            "text/plain": [
              "<Figure size 432x288 with 1 Axes>"
            ],
            "image/png": "[encoded data removed]"
          },
          "metadata": {
            "needs_background": "light"
          }
        }
      ]
    },
    {
      "cell_type": "code",
      "source": [
        "def hypothesis(x):\n",
        "    #linear hypothesis function\n",
        "    fx = (w * x) + b\n",
        "    return fx\n",
        "\n",
        "# def cost(w , b):\n",
        "#     #the cost function\n",
        "#     sum = 0\n",
        "#     for i in range(m):\n",
        "#         sum += (hypothesis(x_column[i]) - y_column[i]) ** 2\n",
        "#     cost_val = sum / (2 * m)\n",
        "#     return cost_val\n"
      ],
      "metadata": {
        "id": "QSs3KOhFMllk"
      },
      "execution_count": null,
      "outputs": []
    },
    {
      "cell_type": "code",
      "source": [
        "#differentiation funcs\n",
        "def det_w(w , b):\n",
        "    #differentiate J(w,b) wrt w\n",
        "    det_sumw = 0\n",
        "    for i in range(m):\n",
        "        det_sumw += (hypothesis(x_column[i]) - y_column[i]) * x_column[i]\n",
        "    det_val = det_sumw / m\n",
        "    return det_val\n",
        "\n",
        "def det_b(w , b):\n",
        "    #differentiate J(w,b) wrt b\n",
        "    det_sumb = 0\n",
        "    for i in range(m):\n",
        "        det_sumb += (hypothesis(x_column[i]) - y_column[i])\n",
        "    det_val = det_sumb / m\n",
        "    return det_val\n"
      ],
      "metadata": {
        "id": "KlqOLrR3Qj96"
      },
      "execution_count": null,
      "outputs": []
    },
    {
      "cell_type": "code",
      "source": [
        "#gradient descent in action\n",
        "def train():\n",
        "    global w , b\n",
        "    temp_w = w - alpha * det_w(w , b)\n",
        "    temp_b = b - alpha * det_b(w , b)\n",
        "    w = temp_w\n",
        "    b = temp_b"
      ],
      "metadata": {
        "id": "qEaljtYATR4C"
      },
      "execution_count": null,
      "outputs": []
    },
    {
      "cell_type": "code",
      "source": [
        "#train model for 500 iterations\n",
        "for _ in range(500):\n",
        "    train()\n",
        "print(w , b)"
      ],
      "metadata": {
        "colab": {
          "base_uri": "https://localhost:8080/"
        },
        "id": "lEe0YVrhT0mN",
        "outputId": "9618492d-202d-4370-c41c-22c26ef24b36"
      },
      "execution_count": null,
      "outputs": [
        {
          "output_type": "stream",
          "name": "stdout",
          "text": [
            "10678.43927859623 17513.820042166673\n"
          ]
        }
      ]
    },
    {
      "cell_type": "code",
      "source": [
        "#get predictions\n",
        "predictions = []\n",
        "for i in range(m) :\n",
        "    predictions.append(round(hypothesis(x_column[i]) , 1))\n",
        "\n",
        "#plt.scatter(x_column , predictions)\n",
        "#plt.show()\n",
        "print(np.array(y_column) - np.array(predictions))\n"
      ],
      "metadata": {
        "colab": {
          "base_uri": "https://localhost:8080/"
        },
        "id": "kPyT_2VmUX_-",
        "outputId": "4bab80fa-02a9-431c-c337-7fa6fa2a3771"
      },
      "execution_count": null,
      "outputs": [
        {
          "output_type": "stream",
          "name": "stdout",
          "text": [
            "[10082.9 14809.2  4199.5  4654.3 -1115.4  8160.7 10600.9  2760.2 12760.2\n",
            "   165.   4058.3 -4433.6 -3270.6 -4214.4 -4455.8 -1900.2 -5944.9  8978.5\n",
            "   846.4 12355.5  1610.8  4942.3  -571.5  8735.   -985.2 -8037.8 -1990.\n",
            " -7391.8 -5110.7 -7765.4]\n"
          ]
        }
      ]
    },
    {
      "cell_type": "code",
      "source": [
        "#compare data\n",
        "plt.scatter(x_column , y_column , color='black') #original data scatter\n",
        "plt.plot(x_column , predictions , color='orange' , label='Predicted') #plot of the predicted\n",
        "plt.plot([min(x_column) , max(x_column)] , [min(y_column) , max(y_column)] , label='Original') #original data plot\n",
        "plt.legend()\n",
        "plt.show()"
      ],
      "metadata": {
        "colab": {
          "base_uri": "https://localhost:8080/",
          "height": 265
        },
        "id": "Qyj14KbrWbZG",
        "outputId": "d85a5a49-2ff5-47cd-af94-ec375d6629de"
      },
      "execution_count": null,
      "outputs": [
        {
          "output_type": "display_data",
          "data": {
            "text/plain": [
              "<Figure size 432x288 with 1 Axes>"
            ],
            "image/png": "[encoded data removed]"
          },
          "metadata": {
            "needs_background": "light"
          }
        }
      ]
    }
  ]
}